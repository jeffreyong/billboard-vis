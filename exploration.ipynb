{
 "cells": [
  {
   "cell_type": "code",
   "execution_count": 2,
   "metadata": {
    "collapsed": false
   },
   "outputs": [],
   "source": [
    "import os\n",
    "\n",
    "csv_files = []\n",
    "\n",
    "for root, dirs, files in os.walk('cleaned_data'):\n",
    "    for filename in files:\n",
    "        if filename.find('csv') < 0:\n",
    "            continue\n",
    "        else:\n",
    "            csv_files.append(os.path.join(root, filename))"
   ]
  },
  {
   "cell_type": "code",
   "execution_count": 3,
   "metadata": {
    "collapsed": false
   },
   "outputs": [],
   "source": [
    "import csv\n",
    "contents = {}\n",
    "for filename in csv_files:\n",
    "    year = int(filename.split('/')[-1].split('.')[0])\n",
    "    \n",
    "    with open(filename) as handle:\n",
    "        csv_reader = csv.reader(handle, delimiter=',', quotechar='\"')\n",
    "        for i, row in enumerate(csv_reader):\n",
    "            if i == 0:\n",
    "                continue\n",
    "            else:\n",
    "                if year in contents:\n",
    "                    contents[year].append(row)\n",
    "                else:\n",
    "                    contents[year] = [row]\n",
    "                    "
   ]
  },
  {
   "cell_type": "code",
   "execution_count": 4,
   "metadata": {
    "collapsed": false
   },
   "outputs": [],
   "source": [
    "song_title_words_freqs = {}\n",
    "import string\n",
    "exclude = set(string.punctuation)\n",
    "\n",
    "for year, songs in contents.iteritems():\n",
    "    for song in songs:\n",
    "        if len(song) < 3:\n",
    "            continue\n",
    "        rank, artist, title = song\n",
    "        title_cleaned = ''.join(ch for ch in title if ch not in exclude)\n",
    "        title_toks = title_cleaned.split(' ')\n",
    "        title_lower_toks = [x.lower() for x in title_toks]\n",
    "        \n",
    "        for tok in title_lower_toks:\n",
    "            if tok in song_title_words_freqs:\n",
    "                song_title_words_freqs[tok] += 1\n",
    "            else:\n",
    "                song_title_words_freqs[tok] = 1\n",
    "\n"
   ]
  },
  {
   "cell_type": "code",
   "execution_count": 5,
   "metadata": {
    "collapsed": false
   },
   "outputs": [],
   "source": [
    "import operator\n",
    "sorted_toks = sorted(song_title_words_freqs.items(), key=operator.itemgetter(1))"
   ]
  },
  {
   "cell_type": "code",
   "execution_count": 6,
   "metadata": {
    "collapsed": false
   },
   "outputs": [],
   "source": [
    "#rank-freq plots\n",
    "rank_freq = {}\n",
    "for term, freq in sorted_toks:\n",
    "    if freq in rank_freq:\n",
    "        rank_freq[freq] += 1\n",
    "    else:\n",
    "        rank_freq[freq] = 1\n",
    "    \n",
    "sorted_rank_freq = sorted(rank_freq.items(), key=operator.itemgetter(1))\n",
    "\n",
    "import math\n",
    "xs = [math.log(x[0],10) for x in sorted_rank_freq]\n",
    "ys = [math.log(x[1],10) for x in sorted_rank_freq]"
   ]
  },
  {
   "cell_type": "code",
   "execution_count": 7,
   "metadata": {
    "collapsed": false
   },
   "outputs": [
    {
     "name": "stderr",
     "output_type": "stream",
     "text": [
      "/Users/shriphani/anaconda2/lib/python2.7/site-packages/matplotlib/collections.py:590: FutureWarning: elementwise comparison failed; returning scalar instead, but in the future will perform elementwise comparison\n",
      "  if self._edgecolors == str('face'):\n"
     ]
    },
    {
     "data": {
      "image/png": "[encoded data removed]",
      "text/plain": [
       "<matplotlib.figure.Figure at 0x1059c4950>"
      ]
     },
     "metadata": {},
     "output_type": "display_data"
    }
   ],
   "source": [
    "import matplotlib.pyplot as plt\n",
    "%matplotlib inline\n",
    "plt.scatter(xs, ys)\n",
    "plt.xlabel('Rank (log scale)')\n",
    "plt.ylabel('Frequency (log scale)')\n",
    "plt.title('Rank-Frequency plot of song titles')\n",
    "plt.savefig('power_law.png')"
   ]
  },
  {
   "cell_type": "code",
   "execution_count": 8,
   "metadata": {
    "collapsed": false
   },
   "outputs": [],
   "source": [
    "artist_ranks = {}\n",
    "for year, songs in contents.iteritems():\n",
    "    for song in songs:\n",
    "        if len(song) < 3:\n",
    "            continue\n",
    "        rank, artist, title = song\n",
    "        if artist in artist_ranks:\n",
    "            artist_ranks[artist] += 1\n",
    "        else:\n",
    "            artist_ranks[artist] = 1\n"
   ]
  },
  {
   "cell_type": "code",
   "execution_count": 11,
   "metadata": {
    "collapsed": false
   },
   "outputs": [],
   "source": [
    "artist_rank_frequency = {}\n",
    "\n",
    "for artist, freq in artist_ranks.iteritems():\n",
    "    if freq in artist_rank_frequency:\n",
    "        artist_rank_frequency[freq] += 1\n",
    "    else:\n",
    "        artist_rank_frequency[freq] = 1\n",
    "        \n",
    "sorted_artist_rank_frequency = sorted(artist_rank_frequency.items(), key=operator.itemgetter(1))"
   ]
  },
  {
   "cell_type": "code",
   "execution_count": 14,
   "metadata": {
    "collapsed": false
   },
   "outputs": [
    {
     "data": {
      "image/png": "[encoded data removed]",
      "text/plain": [
       "<matplotlib.figure.Figure at 0x105b6b6d0>"
      ]
     },
     "metadata": {},
     "output_type": "display_data"
    }
   ],
   "source": [
    "sorted_artist_rank_frequency\n",
    "\n",
    "xs = [math.log(x[0],10) for x in sorted_artist_rank_frequency]\n",
    "ys = [math.log(x[1],10) for x in sorted_artist_rank_frequency]\n",
    "import matplotlib.pyplot as plt\n",
    "%matplotlib inline\n",
    "plt.scatter(xs, ys)\n",
    "plt.xlabel('Rank (log scale)')\n",
    "plt.ylabel('Frequency (log scale)')\n",
    "plt.title('Rank-Frequency plot of artists')\n",
    "plt.savefig('power_law_artists.png')"
   ]
  },
  {
   "cell_type": "code",
   "execution_count": null,
   "metadata": {
    "collapsed": true
   },
   "outputs": [],
   "source": []
  }
 ],
 "metadata": {
  "kernelspec": {
   "display_name": "Python 2",
   "language": "python",
   "name": "python2"
  },
  "language_info": {
   "codemirror_mode": {
    "name": "ipython",
    "version": 2
   },
   "file_extension": ".py",
   "mimetype": "text/x-python",
   "name": "python",
   "nbconvert_exporter": "python",
   "pygments_lexer": "ipython2",
   "version": "2.7.10"
  }
 },
 "nbformat": 4,
 "nbformat_minor": 0
}
