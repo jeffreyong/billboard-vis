{
 "cells": [
  {
   "cell_type": "code",
   "execution_count": 17,
   "metadata": {
    "collapsed": false
   },
   "outputs": [],
   "source": [
    "import os\n",
    "\n",
    "csv_files = []\n",
    "\n",
    "for root, dirs, files in os.walk('cleaned_data'):\n",
    "    for filename in files:\n",
    "        if filename.find('csv') < 0:\n",
    "            continue\n",
    "        else:\n",
    "            csv_files.append(os.path.join(root, filename))"
   ]
  },
  {
   "cell_type": "code",
   "execution_count": 23,
   "metadata": {
    "collapsed": false
   },
   "outputs": [],
   "source": [
    "import csv\n",
    "contents = {}\n",
    "for filename in csv_files:\n",
    "    year = int(filename.split('/')[-1].split('.')[0])\n",
    "    \n",
    "    with open(filename) as handle:\n",
    "        csv_reader = csv.reader(handle, delimiter=',', quotechar='\"')\n",
    "        for i, row in enumerate(csv_reader):\n",
    "            if i == 0:\n",
    "                continue\n",
    "            else:\n",
    "                if year in contents:\n",
    "                    contents[year].append(row)\n",
    "                else:\n",
    "                    contents[year] = [row]\n",
    "                    "
   ]
  },
  {
   "cell_type": "code",
   "execution_count": 51,
   "metadata": {
    "collapsed": false
   },
   "outputs": [],
   "source": [
    "song_title_words_freqs = {}\n",
    "import string\n",
    "exclude = set(string.punctuation)\n",
    "\n",
    "for year, songs in contents.iteritems():\n",
    "    for song in songs:\n",
    "        if len(song) < 3:\n",
    "            continue\n",
    "        rank, artist, title = song\n",
    "        title_cleaned = ''.join(ch for ch in title if ch not in exclude)\n",
    "        title_toks = title_cleaned.split(' ')\n",
    "        title_lower_toks = [x.lower() for x in title_toks]\n",
    "        \n",
    "        for tok in title_lower_toks:\n",
    "            if tok in song_title_words_freqs:\n",
    "                song_title_words_freqs[tok] += 1\n",
    "            else:\n",
    "                song_title_words_freqs[tok] = 1\n",
    "\n"
   ]
  },
  {
   "cell_type": "code",
   "execution_count": 52,
   "metadata": {
    "collapsed": false
   },
   "outputs": [],
   "source": [
    "import operator\n",
    "sorted_toks = sorted(song_title_words_freqs.items(), key=operator.itemgetter(1))"
   ]
  },
  {
   "cell_type": "code",
   "execution_count": 53,
   "metadata": {
    "collapsed": false
   },
   "outputs": [],
   "source": [
    "#rank-freq plots\n",
    "rank_freq = {}\n",
    "for term, freq in sorted_toks:\n",
    "    if freq in rank_freq:\n",
    "        rank_freq[freq] += 1\n",
    "    else:\n",
    "        rank_freq[freq] = 1\n",
    "    \n",
    "sorted_rank_freq = sorted(rank_freq.items(), key=operator.itemgetter(1))\n",
    "\n",
    "import math\n",
    "xs = [math.log(x[0],10) for x in sorted_rank_freq]\n",
    "ys = [math.log(x[1],10) for x in sorted_rank_freq]"
   ]
  },
  {
   "cell_type": "code",
   "execution_count": 50,
   "metadata": {
    "collapsed": false
   },
   "outputs": [
    {
     "data": {
      "image/png": "[encoded data removed]",
      "text/plain": [
       "<matplotlib.figure.Figure at 0x1067085d0>"
      ]
     },
     "metadata": {},
     "output_type": "display_data"
    }
   ],
   "source": [
    "import matplotlib.pyplot as plt\n",
    "%matplotlib inline\n",
    "plt.scatter(xs, ys)\n",
    "plt.xlabel('Rank')\n",
    "\n",
    "plt.savefig('power_law.png')"
   ]
  },
  {
   "cell_type": "code",
   "execution_count": null,
   "metadata": {
    "collapsed": true
   },
   "outputs": [],
   "source": []
  }
 ],
 "metadata": {
  "kernelspec": {
   "display_name": "Python 2",
   "language": "python",
   "name": "python2"
  },
  "language_info": {
   "codemirror_mode": {
    "name": "ipython",
    "version": 2
   },
   "file_extension": ".py",
   "mimetype": "text/x-python",
   "name": "python",
   "nbconvert_exporter": "python",
   "pygments_lexer": "ipython2",
   "version": "2.7.10"
  }
 },
 "nbformat": 4,
 "nbformat_minor": 0
}
